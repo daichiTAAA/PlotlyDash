{
 "cells": [
  {
   "cell_type": "markdown",
   "metadata": {},
   "source": [
    "# 構想"
   ]
  },
  {
   "cell_type": "markdown",
   "metadata": {},
   "source": [
    "### たたき台"
   ]
  },
  {
   "cell_type": "markdown",
   "metadata": {},
   "source": [
    "* データをアップロードすると、データが保存され、リストにファイル名が追加され、データ毎にそのデータの最初の数行が表示される。\n",
    "* 可視化して確認したい場合は、可視化ボタンを押すと、LLMでplotly dashで可視化するコードを作成する。\n",
    "* そのコードが実行されることで、データが可視化される。\n",
    "* 別の形でデータを可視化したい場合やエラーが発生した場合は、その旨をプロンプトに入力することで、再度LLMでコードが作成される。\n",
    "* そのコードが実行されることで、データが可視化される。\n",
    "* プロンプトやコードは保存され、選択して実行することで、再度実行できる。\n",
    "* 別のデータを複数組み合わせて可視化したい場合は、その旨をプロンプトに入力することで、再度LLMでコードが作成される。\n",
    "* そのコードが実行されることで、データが可視化される。"
   ]
  },
  {
   "cell_type": "markdown",
   "metadata": {},
   "source": [
    "### 検討事項"
   ]
  },
  {
   "cell_type": "markdown",
   "metadata": {},
   "source": [
    "* LLMで作成したplotly dashのコードはどこで実行するか？Azure Functionsはサーバーを中で立ち上げられるのか？Web Appsでは無理か？サーバーでなく、ページとして扱えないか？\n",
    "* 保存されたデータをKnowledge Graphを使用してデータのコンテキスト化を行うことはできないか？また、必要なデータの提案や、データの組み合わせの提案はできないか？\n",
    "* LLMでRDB向けにはSQL、Graph DB向けにはCypherのクエリを作成し、RDBやGraph DBに対して自然言語インターフェースでクエリを実行することはできないか？\n",
    "* Knowledge Graphの作成自体がネックになりそう。RAGにてGraph DBを使用するかベクトルデータベースを使用するか、他に手法があるのか調査する。"
   ]
  },
  {
   "cell_type": "markdown",
   "metadata": {},
   "source": [
    "### たたき台２"
   ]
  },
  {
   "cell_type": "markdown",
   "metadata": {},
   "source": [
    "* サーバーを新しく立ち上げずに、同じページ内で生成されたコードを実行してデータを可視化する\n",
    "* pandas aiにLLMをつないで、dfのクリーンングとコンテキスト化を行う(OpenAI APIの使用が必須か検証必要)\n",
    "* Open InterpreterにLLM(llama2)をつないで、dfのクリーニングとコンテキスト化を行う\n",
    "* コンテキスト化されたdfに対して、ユーザーのプロンプトに基づき、Open InterpreterとLLM(llama2)でplotly dashを使用したデータ可視化コードを生成する\n",
    "* 生成されたコードを実行して、ページ内でデータを可視化する"
   ]
  },
  {
   "cell_type": "markdown",
   "metadata": {},
   "source": [
    "### たたき台３"
   ]
  },
  {
   "cell_type": "markdown",
   "metadata": {},
   "source": [
    "* plotly dashを使用してWebアプリを作成する\n",
    "* 保存されたデータをリスト化して表示されるようにする\n",
    "* ファイルをアップロードしてリストに追加できるようにする\n",
    "* Open InterpreterとLLama2を使用してチャットボットでリスト中のデータの読み込み、データのクリーニング、コンテキスト化、分析、可視化、変更後のデータの保存、変換プロセスの保存と再利用を行えるようにする"
   ]
  },
  {
   "cell_type": "markdown",
   "metadata": {},
   "source": [
    "### たたき台４"
   ]
  },
  {
   "cell_type": "markdown",
   "metadata": {},
   "source": [
    "* Open InterpreterだとWebアプリに埋め込みにくいため、Elyzaを単体で試してみる。\n",
    "  * しっかりと回答が返ってきた。\n",
    "#### プロンプト\n",
    "```\n",
    "\"plotly dashでグラフを作成し、それをダッシュボードに表示する方法を教えてください。\"\n",
    "```\n",
    "#### 回答\n",
    "```\n",
    "plotly dashでグラフを作成し、ダッシュボードに表示する方法を説明します。\n",
    "\n",
    "まず、グラフを作成するために以下のようにimport plotly.graph_objs as goとimport plotly.dash as dpをインポートします。\n",
    "\n",
    "```python\n",
    "import plotly.graph_objs as go\n",
    "import plotly.dash as dp\n",
    "```\n",
    "次に、グラフを描画するためのfunctionを定義します。\n",
    "\n",
    "```python\n",
    "def graph(x, y):\n",
    "    fig = go.Figure()\n",
    "    fig.add_trace(go.Scatter(x=x, y=y, mode='lines', name='Line'))\n",
    "    fig.update_layout(title='Line Graph', xaxis_title='X Axis', yaxis_title='Y Axis')\n",
    "    return fig\n",
    "```\n",
    "上記のfunctionでは、グラフの描画にplotly.graph_objsを用いています。\n",
    "\n",
    "次に、ダッシュボードを作成するためのfunctionを定義します。\n",
    "\n",
    "```python\n",
    "def dashboard(title, graphs):\n",
    "    app = dp.App()\n",
    "    return app\n",
    "```\n",
    "上記のfunctionでは、ダッシュボードの作成にplotly.dashを用いています。\n",
    "\n",
    "最後に、グラフをダッシュボードに表示する関数を定義します。\n",
    "\n",
    "```python\n",
    "def display_graphs(title, graphs):\n",
    "    return dashboard(title, graphs)\n",
    "```\n",
    "上記のfunctionでは、グラフをダッシュボードに表示するdisplay_graphs functionを定義しています。\n",
    "\n",
    "以上のようにすることで、plotly dashでグラフを作成し、ダッシュボードに表示する方法を学んだことができます。\n",
    "```"
   ]
  },
  {
   "cell_type": "markdown",
   "metadata": {},
   "source": [
    "### たたき台5\n",
    "* 単発でなく、会話できるようにする\n",
    "  * FastChatを使用する  \n",
    "    [GitHub FastChat](https://github.com/lm-sys/FastChat)\n",
    "  * LangChainを使用する\n",
    "  * TensorRT-LLMを使用する\n",
    "* LangChainがGitHubスター数最多、Google Trendsでも検索数最多、伸び率も追い上げられていないため、LangChainを使用する"
   ]
  }
 ],
 "metadata": {
  "language_info": {
   "name": "python"
  },
  "orig_nbformat": 4
 },
 "nbformat": 4,
 "nbformat_minor": 2
}
