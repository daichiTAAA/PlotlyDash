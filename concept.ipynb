{
 "cells": [
  {
   "cell_type": "markdown",
   "metadata": {},
   "source": [
    "# 構想"
   ]
  },
  {
   "cell_type": "markdown",
   "metadata": {},
   "source": [
    "### たたき台"
   ]
  },
  {
   "cell_type": "markdown",
   "metadata": {},
   "source": [
    "* データをアップロードすると、データが保存され、リストにファイル名が追加され、データ毎にそのデータの最初の数行が表示される。\n",
    "* 可視化して確認したい場合は、可視化ボタンを押すと、LLMでplotly dashで可視化するコードを作成する。\n",
    "* そのコードが実行されることで、データが可視化される。\n",
    "* 別の形でデータを可視化したい場合やエラーが発生した場合は、その旨をプロンプトに入力することで、再度LLMでコードが作成される。\n",
    "* そのコードが実行されることで、データが可視化される。\n",
    "* プロンプトやコードは保存され、選択して実行することで、再度実行できる。\n",
    "* 別のデータを複数組み合わせて可視化したい場合は、その旨をプロンプトに入力することで、再度LLMでコードが作成される。\n",
    "* そのコードが実行されることで、データが可視化される。"
   ]
  },
  {
   "cell_type": "markdown",
   "metadata": {},
   "source": [
    "### 検討事項"
   ]
  },
  {
   "cell_type": "markdown",
   "metadata": {},
   "source": [
    "* LLMで作成したplotly dashのコードはどこで実行するか？Azure Functionsはサーバーを中で立ち上げられるのか？Web Appsでは無理か？サーバーでなく、ページとして扱えないか？\n",
    "* 保存されたデータをKnowledge Graphを使用してデータのコンテキスト化を行うことはできないか？また、必要なデータの提案や、データの組み合わせの提案はできないか？\n",
    "* LLMでRDB向けにはSQL、Graph DB向けにはCypherのクエリを作成し、RDBやGraph DBに対して自然言語インターフェースでクエリを実行することはできないか？\n",
    "* Knowledge Graphの作成自体がネックになりそう。RAGにてGraph DBを使用するかベクトルデータベースを使用するか、他に手法があるのか調査する。"
   ]
  },
  {
   "cell_type": "markdown",
   "metadata": {},
   "source": [
    "### たたき台２"
   ]
  },
  {
   "cell_type": "markdown",
   "metadata": {},
   "source": [
    "* サーバーを新しく立ち上げずに、同じページ内で生成されたコードを実行してデータを可視化する\n",
    "* pandas aiにLLMをつないで、dfのクリーンングとコンテキスト化を行う(OpenAI APIの使用が必須か検証必要)\n",
    "* Open InterpreterにLLM(llama2)をつないで、dfのクリーニングとコンテキスト化を行う\n",
    "* コンテキスト化されたdfに対して、ユーザーのプロンプトに基づき、Open InterpreterとLLM(llama2)でplotly dashを使用したデータ可視化コードを生成する\n",
    "* 生成されたコードを実行して、ページ内でデータを可視化する"
   ]
  }
 ],
 "metadata": {
  "language_info": {
   "name": "python"
  },
  "orig_nbformat": 4
 },
 "nbformat": 4,
 "nbformat_minor": 2
}
